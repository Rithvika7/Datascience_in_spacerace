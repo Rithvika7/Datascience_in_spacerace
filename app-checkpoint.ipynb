{
 "cells": [
  {
   "cell_type": "code",
   "execution_count": 2,
   "id": "a05e3a8e-1fa9-4f13-b44d-34e54d36f0f1",
   "metadata": {},
   "outputs": [],
   "source": [
    "def update_scattergraph(site_dropdown, payload_slider):\n",
    "    if site_dropdown == 'All Sites':\n",
    "        low, high = payload_slider\n",
    "        df  = spacex_df\n",
    "        mask = (df['Payload Mass (kg)'] > low) & (df['Payload Mass (kg)'] < high)\n",
    "        fig = px.scatter(\n",
    "            df[mask], \n",
    "            x=\"Payload Mass (kg)\", \n",
    "            y=\"class\",\n",
    "            color=\"Booster Version\",\n",
    "            size='Payload Mass (kg)',\n",
    "            hover_data=['Payload Mass (kg)', 'Booster Version'],\n",
    "            title=\"Correlation between Payload and Success for All Sites\"\n",
    "        )\n",
    "    else:\n",
    "        low, high = payload_slider\n",
    "        df  = spacex_df[spacex_df['Launch Site'] == site_dropdown]\n",
    "        mask = (df['Payload Mass (kg)'] > low) & (df['Payload Mass (kg)'] < high)\n",
    "        fig = px.scatter(\n",
    "            df[mask], \n",
    "            x=\"Payload Mass (kg)\", \n",
    "            y=\"class\",\n",
    "            color=\"Booster Version\",\n",
    "            size='Payload Mass (kg)',\n",
    "            hover_data=['Payload Mass (kg)', 'Booster Version'],\n",
    "            title=f\"Correlation between Payload and Success for {site_dropdown}\"\n",
    "        )\n",
    "    return fig\n"
   ]
  },
  {
   "cell_type": "code",
   "execution_count": null,
   "id": "85e63f86-487f-49a4-bd25-807222ebd9e6",
   "metadata": {},
   "outputs": [],
   "source": []
  }
 ],
 "metadata": {
  "kernelspec": {
   "display_name": "Python 3 (ipykernel)",
   "language": "python",
   "name": "python3"
  },
  "language_info": {
   "codemirror_mode": {
    "name": "ipython",
    "version": 3
   },
   "file_extension": ".py",
   "mimetype": "text/x-python",
   "name": "python",
   "nbconvert_exporter": "python",
   "pygments_lexer": "ipython3",
   "version": "3.11.7"
  }
 },
 "nbformat": 4,
 "nbformat_minor": 5
}
